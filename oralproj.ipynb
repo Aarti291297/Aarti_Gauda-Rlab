{
  "nbformat": 4,
  "nbformat_minor": 0,
  "metadata": {
    "colab": {
      "name": "oralproj.ipynb",
      "provenance": [],
      "collapsed_sections": [],
      "authorship_tag": "ABX9TyN7UsjTSDJFl5ySTmjib7mM",
      "include_colab_link": true
    },
    "kernelspec": {
      "name": "python3",
      "display_name": "Python 3"
    },
    "language_info": {
      "name": "python"
    }
  },
  "cells": [
    {
      "cell_type": "markdown",
      "metadata": {
        "id": "view-in-github",
        "colab_type": "text"
      },
      "source": [
        "<a href=\"https://colab.research.google.com/github/Aarti291297/Aarti_Gauda-Rlab/blob/main/oralproj.ipynb\" target=\"_parent\"><img src=\"https://colab.research.google.com/assets/colab-badge.svg\" alt=\"Open In Colab\"/></a>"
      ]
    },
    {
      "cell_type": "code",
      "metadata": {
        "colab": {
          "base_uri": "https://localhost:8080/",
          "height": 1000
        },
        "id": "aqbXHIBmSNGY",
        "outputId": "48eca5ae-2a35-459b-cf71-48c2a360f14d"
      },
      "source": [
        "id <- \"10MtPqGguA-2erSyJkHwn8r677kB7HFxb\" # google file ID\n",
        "data <- read.csv(sprintf(\"https://docs.google.com/uc?id=%s&export=download\", id), na.strings=c(\"\",\"NA\"))\n",
        "data"
      ],
      "execution_count": null,
      "outputs": [
        {
          "output_type": "display_data",
          "data": {
            "text/plain": [
              "    Pregnancies Glucose BloodPressure SkinThickness Insulin BMI \n",
              "1    6          148     72            35              0     33.6\n",
              "2    1           85     66            29              0     26.6\n",
              "3    8          183     64             0              0     23.3\n",
              "4    1           89     66            23             94     28.1\n",
              "5    0          137     40            35            168     43.1\n",
              "6    5          116     74             0              0     25.6\n",
              "7    3           78     50            32             88     31.0\n",
              "8   10          115      0             0              0     35.3\n",
              "9    2          197     70            45            543     30.5\n",
              "10   8          125     96             0              0      0.0\n",
              "11   4          110     92             0              0     37.6\n",
              "12  10          168     74             0              0     38.0\n",
              "13  10          139     80             0              0     27.1\n",
              "14   1          189     60            23            846     30.1\n",
              "15   5          166     72            19            175     25.8\n",
              "16   7          100      0             0              0     30.0\n",
              "17   0          118     84            47            230     45.8\n",
              "18   7          107     74             0              0       NA\n",
              "19   1          103     30            38             83     43.3\n",
              "20   1          115     70            30             96     34.6\n",
              "21   3          126     88            41            235     39.3\n",
              "22   8           99     84             0              0     35.4\n",
              "23   7          196     90             0              0       NA\n",
              "24   9          119     80            35              0     29.0\n",
              "25  11          143     94            33            146     36.6\n",
              "26  10          125     70            26            115     31.1\n",
              "27   7          147     76             0              0     39.4\n",
              "28   1           97     66            15            140     23.2\n",
              "29  13          145     82            19             NA     22.2\n",
              "30   5          117     92             0              0       NA\n",
              "⋮   ⋮           ⋮       ⋮             ⋮             ⋮       ⋮   \n",
              "739  2           99     60            17            160     36.6\n",
              "740  1          102     74             0              0     39.5\n",
              "741 11          120     80            37            150     42.3\n",
              "742  3          102     44            20             94     30.8\n",
              "743  1          109     58            18             NA     28.5\n",
              "744  9          140     94             0              0     32.7\n",
              "745 13          153     88            37            140     40.6\n",
              "746 12          100     84            33            105     30.0\n",
              "747  1          147     94            41              0     49.3\n",
              "748  1           81     74            41             57     46.3\n",
              "749  3          187     70            22            200     36.4\n",
              "750  6          162     62             0              0     24.3\n",
              "751  4          136     70             0              0     31.2\n",
              "752  1          121     78            39             74     39.0\n",
              "753  3          108     62            24              0     26.0\n",
              "754  0          181     88            44            510     43.3\n",
              "755  8          154     78            32              0     32.4\n",
              "756  1          128     88            39             NA     36.5\n",
              "757  7          137     90            41              0     32.0\n",
              "758  0          123     72             0              0     36.3\n",
              "759  1          106     76             0              0     37.5\n",
              "760  6          190     92             0              0     35.5\n",
              "761  2           88     58            26             16     28.4\n",
              "762  9          170     74            31              0     44.0\n",
              "763  9           89     62             0              0     22.5\n",
              "764 10          101     76            48            180     32.9\n",
              "765  2          122     70            27              0     36.8\n",
              "766  5          121     72            23            112     26.2\n",
              "767  1          126     60             0              0     30.1\n",
              "768  1           93     70            31              0     30.4\n",
              "    DiabetesPedigreeFunction Age Outcome\n",
              "1   0.627                    50  1      \n",
              "2   0.351                    31  0      \n",
              "3   0.672                    32  1      \n",
              "4   0.167                    21  0      \n",
              "5   2.288                    33  1      \n",
              "6   0.201                    30  0      \n",
              "7   0.248                    26  1      \n",
              "8   0.134                    29  0      \n",
              "9   0.158                    53  1      \n",
              "10  0.232                    54  1      \n",
              "11  0.191                    30  0      \n",
              "12  0.537                    34  1      \n",
              "13  1.441                    57  0      \n",
              "14  0.398                    59  1      \n",
              "15  0.587                    51  1      \n",
              "16  0.484                    32  1      \n",
              "17  0.551                    31  1      \n",
              "18  0.254                    31  1      \n",
              "19  0.183                    33  0      \n",
              "20  0.529                    32  1      \n",
              "21  0.704                    27  0      \n",
              "22  0.388                    50  0      \n",
              "23  0.451                    41  1      \n",
              "24  0.263                    29  1      \n",
              "25  0.254                    51  1      \n",
              "26  0.205                    41  1      \n",
              "27  0.257                    43  1      \n",
              "28  0.487                    22  0      \n",
              "29  0.245                    57  0      \n",
              "30  0.337                    38  0      \n",
              "⋮   ⋮                        ⋮   ⋮      \n",
              "739 0.453                    21  0      \n",
              "740 0.293                    42  1      \n",
              "741 0.785                    48  1      \n",
              "742 0.400                    26  0      \n",
              "743 0.219                    22  0      \n",
              "744 0.734                    45  1      \n",
              "745 1.174                    39  0      \n",
              "746 0.488                    46  0      \n",
              "747 0.358                    27  1      \n",
              "748 1.096                    32  0      \n",
              "749 0.408                    36  1      \n",
              "750 0.178                    50  1      \n",
              "751 1.182                    22  1      \n",
              "752 0.261                    28  0      \n",
              "753 0.223                    25  0      \n",
              "754 0.222                    26  1      \n",
              "755 0.443                    45  1      \n",
              "756 1.057                    37  1      \n",
              "757 0.391                    39  0      \n",
              "758 0.258                    52  1      \n",
              "759 0.197                    26  0      \n",
              "760 0.278                    66  1      \n",
              "761 0.766                    22  0      \n",
              "762 0.403                    43  1      \n",
              "763 0.142                    33  0      \n",
              "764 0.171                    63  0      \n",
              "765 0.340                    27  0      \n",
              "766 0.245                    30  0      \n",
              "767 0.349                    47  1      \n",
              "768 0.315                    23  0      "
            ],
            "text/latex": "A data.frame: 768 × 9\n\\begin{tabular}{lllllllll}\n Pregnancies & Glucose & BloodPressure & SkinThickness & Insulin & BMI & DiabetesPedigreeFunction & Age & Outcome\\\\\n <int> & <int> & <int> & <int> & <int> & <dbl> & <dbl> & <int> & <int>\\\\\n\\hline\n\t  6 & 148 & 72 & 35 &   0 & 33.6 & 0.627 & 50 & 1\\\\\n\t  1 &  85 & 66 & 29 &   0 & 26.6 & 0.351 & 31 & 0\\\\\n\t  8 & 183 & 64 &  0 &   0 & 23.3 & 0.672 & 32 & 1\\\\\n\t  1 &  89 & 66 & 23 &  94 & 28.1 & 0.167 & 21 & 0\\\\\n\t  0 & 137 & 40 & 35 & 168 & 43.1 & 2.288 & 33 & 1\\\\\n\t  5 & 116 & 74 &  0 &   0 & 25.6 & 0.201 & 30 & 0\\\\\n\t  3 &  78 & 50 & 32 &  88 & 31.0 & 0.248 & 26 & 1\\\\\n\t 10 & 115 &  0 &  0 &   0 & 35.3 & 0.134 & 29 & 0\\\\\n\t  2 & 197 & 70 & 45 & 543 & 30.5 & 0.158 & 53 & 1\\\\\n\t  8 & 125 & 96 &  0 &   0 &  0.0 & 0.232 & 54 & 1\\\\\n\t  4 & 110 & 92 &  0 &   0 & 37.6 & 0.191 & 30 & 0\\\\\n\t 10 & 168 & 74 &  0 &   0 & 38.0 & 0.537 & 34 & 1\\\\\n\t 10 & 139 & 80 &  0 &   0 & 27.1 & 1.441 & 57 & 0\\\\\n\t  1 & 189 & 60 & 23 & 846 & 30.1 & 0.398 & 59 & 1\\\\\n\t  5 & 166 & 72 & 19 & 175 & 25.8 & 0.587 & 51 & 1\\\\\n\t  7 & 100 &  0 &  0 &   0 & 30.0 & 0.484 & 32 & 1\\\\\n\t  0 & 118 & 84 & 47 & 230 & 45.8 & 0.551 & 31 & 1\\\\\n\t  7 & 107 & 74 &  0 &   0 &   NA & 0.254 & 31 & 1\\\\\n\t  1 & 103 & 30 & 38 &  83 & 43.3 & 0.183 & 33 & 0\\\\\n\t  1 & 115 & 70 & 30 &  96 & 34.6 & 0.529 & 32 & 1\\\\\n\t  3 & 126 & 88 & 41 & 235 & 39.3 & 0.704 & 27 & 0\\\\\n\t  8 &  99 & 84 &  0 &   0 & 35.4 & 0.388 & 50 & 0\\\\\n\t  7 & 196 & 90 &  0 &   0 &   NA & 0.451 & 41 & 1\\\\\n\t  9 & 119 & 80 & 35 &   0 & 29.0 & 0.263 & 29 & 1\\\\\n\t 11 & 143 & 94 & 33 & 146 & 36.6 & 0.254 & 51 & 1\\\\\n\t 10 & 125 & 70 & 26 & 115 & 31.1 & 0.205 & 41 & 1\\\\\n\t  7 & 147 & 76 &  0 &   0 & 39.4 & 0.257 & 43 & 1\\\\\n\t  1 &  97 & 66 & 15 & 140 & 23.2 & 0.487 & 22 & 0\\\\\n\t 13 & 145 & 82 & 19 &  NA & 22.2 & 0.245 & 57 & 0\\\\\n\t  5 & 117 & 92 &  0 &   0 &   NA & 0.337 & 38 & 0\\\\\n\t ⋮ & ⋮ & ⋮ & ⋮ & ⋮ & ⋮ & ⋮ & ⋮ & ⋮\\\\\n\t  2 &  99 & 60 & 17 & 160 & 36.6 & 0.453 & 21 & 0\\\\\n\t  1 & 102 & 74 &  0 &   0 & 39.5 & 0.293 & 42 & 1\\\\\n\t 11 & 120 & 80 & 37 & 150 & 42.3 & 0.785 & 48 & 1\\\\\n\t  3 & 102 & 44 & 20 &  94 & 30.8 & 0.400 & 26 & 0\\\\\n\t  1 & 109 & 58 & 18 &  NA & 28.5 & 0.219 & 22 & 0\\\\\n\t  9 & 140 & 94 &  0 &   0 & 32.7 & 0.734 & 45 & 1\\\\\n\t 13 & 153 & 88 & 37 & 140 & 40.6 & 1.174 & 39 & 0\\\\\n\t 12 & 100 & 84 & 33 & 105 & 30.0 & 0.488 & 46 & 0\\\\\n\t  1 & 147 & 94 & 41 &   0 & 49.3 & 0.358 & 27 & 1\\\\\n\t  1 &  81 & 74 & 41 &  57 & 46.3 & 1.096 & 32 & 0\\\\\n\t  3 & 187 & 70 & 22 & 200 & 36.4 & 0.408 & 36 & 1\\\\\n\t  6 & 162 & 62 &  0 &   0 & 24.3 & 0.178 & 50 & 1\\\\\n\t  4 & 136 & 70 &  0 &   0 & 31.2 & 1.182 & 22 & 1\\\\\n\t  1 & 121 & 78 & 39 &  74 & 39.0 & 0.261 & 28 & 0\\\\\n\t  3 & 108 & 62 & 24 &   0 & 26.0 & 0.223 & 25 & 0\\\\\n\t  0 & 181 & 88 & 44 & 510 & 43.3 & 0.222 & 26 & 1\\\\\n\t  8 & 154 & 78 & 32 &   0 & 32.4 & 0.443 & 45 & 1\\\\\n\t  1 & 128 & 88 & 39 &  NA & 36.5 & 1.057 & 37 & 1\\\\\n\t  7 & 137 & 90 & 41 &   0 & 32.0 & 0.391 & 39 & 0\\\\\n\t  0 & 123 & 72 &  0 &   0 & 36.3 & 0.258 & 52 & 1\\\\\n\t  1 & 106 & 76 &  0 &   0 & 37.5 & 0.197 & 26 & 0\\\\\n\t  6 & 190 & 92 &  0 &   0 & 35.5 & 0.278 & 66 & 1\\\\\n\t  2 &  88 & 58 & 26 &  16 & 28.4 & 0.766 & 22 & 0\\\\\n\t  9 & 170 & 74 & 31 &   0 & 44.0 & 0.403 & 43 & 1\\\\\n\t  9 &  89 & 62 &  0 &   0 & 22.5 & 0.142 & 33 & 0\\\\\n\t 10 & 101 & 76 & 48 & 180 & 32.9 & 0.171 & 63 & 0\\\\\n\t  2 & 122 & 70 & 27 &   0 & 36.8 & 0.340 & 27 & 0\\\\\n\t  5 & 121 & 72 & 23 & 112 & 26.2 & 0.245 & 30 & 0\\\\\n\t  1 & 126 & 60 &  0 &   0 & 30.1 & 0.349 & 47 & 1\\\\\n\t  1 &  93 & 70 & 31 &   0 & 30.4 & 0.315 & 23 & 0\\\\\n\\end{tabular}\n",
            "text/markdown": "\nA data.frame: 768 × 9\n\n| Pregnancies &lt;int&gt; | Glucose &lt;int&gt; | BloodPressure &lt;int&gt; | SkinThickness &lt;int&gt; | Insulin &lt;int&gt; | BMI &lt;dbl&gt; | DiabetesPedigreeFunction &lt;dbl&gt; | Age &lt;int&gt; | Outcome &lt;int&gt; |\n|---|---|---|---|---|---|---|---|---|\n|  6 | 148 | 72 | 35 |   0 | 33.6 | 0.627 | 50 | 1 |\n|  1 |  85 | 66 | 29 |   0 | 26.6 | 0.351 | 31 | 0 |\n|  8 | 183 | 64 |  0 |   0 | 23.3 | 0.672 | 32 | 1 |\n|  1 |  89 | 66 | 23 |  94 | 28.1 | 0.167 | 21 | 0 |\n|  0 | 137 | 40 | 35 | 168 | 43.1 | 2.288 | 33 | 1 |\n|  5 | 116 | 74 |  0 |   0 | 25.6 | 0.201 | 30 | 0 |\n|  3 |  78 | 50 | 32 |  88 | 31.0 | 0.248 | 26 | 1 |\n| 10 | 115 |  0 |  0 |   0 | 35.3 | 0.134 | 29 | 0 |\n|  2 | 197 | 70 | 45 | 543 | 30.5 | 0.158 | 53 | 1 |\n|  8 | 125 | 96 |  0 |   0 |  0.0 | 0.232 | 54 | 1 |\n|  4 | 110 | 92 |  0 |   0 | 37.6 | 0.191 | 30 | 0 |\n| 10 | 168 | 74 |  0 |   0 | 38.0 | 0.537 | 34 | 1 |\n| 10 | 139 | 80 |  0 |   0 | 27.1 | 1.441 | 57 | 0 |\n|  1 | 189 | 60 | 23 | 846 | 30.1 | 0.398 | 59 | 1 |\n|  5 | 166 | 72 | 19 | 175 | 25.8 | 0.587 | 51 | 1 |\n|  7 | 100 |  0 |  0 |   0 | 30.0 | 0.484 | 32 | 1 |\n|  0 | 118 | 84 | 47 | 230 | 45.8 | 0.551 | 31 | 1 |\n|  7 | 107 | 74 |  0 |   0 |   NA | 0.254 | 31 | 1 |\n|  1 | 103 | 30 | 38 |  83 | 43.3 | 0.183 | 33 | 0 |\n|  1 | 115 | 70 | 30 |  96 | 34.6 | 0.529 | 32 | 1 |\n|  3 | 126 | 88 | 41 | 235 | 39.3 | 0.704 | 27 | 0 |\n|  8 |  99 | 84 |  0 |   0 | 35.4 | 0.388 | 50 | 0 |\n|  7 | 196 | 90 |  0 |   0 |   NA | 0.451 | 41 | 1 |\n|  9 | 119 | 80 | 35 |   0 | 29.0 | 0.263 | 29 | 1 |\n| 11 | 143 | 94 | 33 | 146 | 36.6 | 0.254 | 51 | 1 |\n| 10 | 125 | 70 | 26 | 115 | 31.1 | 0.205 | 41 | 1 |\n|  7 | 147 | 76 |  0 |   0 | 39.4 | 0.257 | 43 | 1 |\n|  1 |  97 | 66 | 15 | 140 | 23.2 | 0.487 | 22 | 0 |\n| 13 | 145 | 82 | 19 |  NA | 22.2 | 0.245 | 57 | 0 |\n|  5 | 117 | 92 |  0 |   0 |   NA | 0.337 | 38 | 0 |\n| ⋮ | ⋮ | ⋮ | ⋮ | ⋮ | ⋮ | ⋮ | ⋮ | ⋮ |\n|  2 |  99 | 60 | 17 | 160 | 36.6 | 0.453 | 21 | 0 |\n|  1 | 102 | 74 |  0 |   0 | 39.5 | 0.293 | 42 | 1 |\n| 11 | 120 | 80 | 37 | 150 | 42.3 | 0.785 | 48 | 1 |\n|  3 | 102 | 44 | 20 |  94 | 30.8 | 0.400 | 26 | 0 |\n|  1 | 109 | 58 | 18 |  NA | 28.5 | 0.219 | 22 | 0 |\n|  9 | 140 | 94 |  0 |   0 | 32.7 | 0.734 | 45 | 1 |\n| 13 | 153 | 88 | 37 | 140 | 40.6 | 1.174 | 39 | 0 |\n| 12 | 100 | 84 | 33 | 105 | 30.0 | 0.488 | 46 | 0 |\n|  1 | 147 | 94 | 41 |   0 | 49.3 | 0.358 | 27 | 1 |\n|  1 |  81 | 74 | 41 |  57 | 46.3 | 1.096 | 32 | 0 |\n|  3 | 187 | 70 | 22 | 200 | 36.4 | 0.408 | 36 | 1 |\n|  6 | 162 | 62 |  0 |   0 | 24.3 | 0.178 | 50 | 1 |\n|  4 | 136 | 70 |  0 |   0 | 31.2 | 1.182 | 22 | 1 |\n|  1 | 121 | 78 | 39 |  74 | 39.0 | 0.261 | 28 | 0 |\n|  3 | 108 | 62 | 24 |   0 | 26.0 | 0.223 | 25 | 0 |\n|  0 | 181 | 88 | 44 | 510 | 43.3 | 0.222 | 26 | 1 |\n|  8 | 154 | 78 | 32 |   0 | 32.4 | 0.443 | 45 | 1 |\n|  1 | 128 | 88 | 39 |  NA | 36.5 | 1.057 | 37 | 1 |\n|  7 | 137 | 90 | 41 |   0 | 32.0 | 0.391 | 39 | 0 |\n|  0 | 123 | 72 |  0 |   0 | 36.3 | 0.258 | 52 | 1 |\n|  1 | 106 | 76 |  0 |   0 | 37.5 | 0.197 | 26 | 0 |\n|  6 | 190 | 92 |  0 |   0 | 35.5 | 0.278 | 66 | 1 |\n|  2 |  88 | 58 | 26 |  16 | 28.4 | 0.766 | 22 | 0 |\n|  9 | 170 | 74 | 31 |   0 | 44.0 | 0.403 | 43 | 1 |\n|  9 |  89 | 62 |  0 |   0 | 22.5 | 0.142 | 33 | 0 |\n| 10 | 101 | 76 | 48 | 180 | 32.9 | 0.171 | 63 | 0 |\n|  2 | 122 | 70 | 27 |   0 | 36.8 | 0.340 | 27 | 0 |\n|  5 | 121 | 72 | 23 | 112 | 26.2 | 0.245 | 30 | 0 |\n|  1 | 126 | 60 |  0 |   0 | 30.1 | 0.349 | 47 | 1 |\n|  1 |  93 | 70 | 31 |   0 | 30.4 | 0.315 | 23 | 0 |\n\n",
            "text/html": [
              "<table class=\"dataframe\">\n",
              "<caption>A data.frame: 768 × 9</caption>\n",
              "<thead>\n",
              "\t<tr><th scope=col>Pregnancies</th><th scope=col>Glucose</th><th scope=col>BloodPressure</th><th scope=col>SkinThickness</th><th scope=col>Insulin</th><th scope=col>BMI</th><th scope=col>DiabetesPedigreeFunction</th><th scope=col>Age</th><th scope=col>Outcome</th></tr>\n",
              "\t<tr><th scope=col>&lt;int&gt;</th><th scope=col>&lt;int&gt;</th><th scope=col>&lt;int&gt;</th><th scope=col>&lt;int&gt;</th><th scope=col>&lt;int&gt;</th><th scope=col>&lt;dbl&gt;</th><th scope=col>&lt;dbl&gt;</th><th scope=col>&lt;int&gt;</th><th scope=col>&lt;int&gt;</th></tr>\n",
              "</thead>\n",
              "<tbody>\n",
              "\t<tr><td> 6</td><td>148</td><td>72</td><td>35</td><td>  0</td><td>33.6</td><td>0.627</td><td>50</td><td>1</td></tr>\n",
              "\t<tr><td> 1</td><td> 85</td><td>66</td><td>29</td><td>  0</td><td>26.6</td><td>0.351</td><td>31</td><td>0</td></tr>\n",
              "\t<tr><td> 8</td><td>183</td><td>64</td><td> 0</td><td>  0</td><td>23.3</td><td>0.672</td><td>32</td><td>1</td></tr>\n",
              "\t<tr><td> 1</td><td> 89</td><td>66</td><td>23</td><td> 94</td><td>28.1</td><td>0.167</td><td>21</td><td>0</td></tr>\n",
              "\t<tr><td> 0</td><td>137</td><td>40</td><td>35</td><td>168</td><td>43.1</td><td>2.288</td><td>33</td><td>1</td></tr>\n",
              "\t<tr><td> 5</td><td>116</td><td>74</td><td> 0</td><td>  0</td><td>25.6</td><td>0.201</td><td>30</td><td>0</td></tr>\n",
              "\t<tr><td> 3</td><td> 78</td><td>50</td><td>32</td><td> 88</td><td>31.0</td><td>0.248</td><td>26</td><td>1</td></tr>\n",
              "\t<tr><td>10</td><td>115</td><td> 0</td><td> 0</td><td>  0</td><td>35.3</td><td>0.134</td><td>29</td><td>0</td></tr>\n",
              "\t<tr><td> 2</td><td>197</td><td>70</td><td>45</td><td>543</td><td>30.5</td><td>0.158</td><td>53</td><td>1</td></tr>\n",
              "\t<tr><td> 8</td><td>125</td><td>96</td><td> 0</td><td>  0</td><td> 0.0</td><td>0.232</td><td>54</td><td>1</td></tr>\n",
              "\t<tr><td> 4</td><td>110</td><td>92</td><td> 0</td><td>  0</td><td>37.6</td><td>0.191</td><td>30</td><td>0</td></tr>\n",
              "\t<tr><td>10</td><td>168</td><td>74</td><td> 0</td><td>  0</td><td>38.0</td><td>0.537</td><td>34</td><td>1</td></tr>\n",
              "\t<tr><td>10</td><td>139</td><td>80</td><td> 0</td><td>  0</td><td>27.1</td><td>1.441</td><td>57</td><td>0</td></tr>\n",
              "\t<tr><td> 1</td><td>189</td><td>60</td><td>23</td><td>846</td><td>30.1</td><td>0.398</td><td>59</td><td>1</td></tr>\n",
              "\t<tr><td> 5</td><td>166</td><td>72</td><td>19</td><td>175</td><td>25.8</td><td>0.587</td><td>51</td><td>1</td></tr>\n",
              "\t<tr><td> 7</td><td>100</td><td> 0</td><td> 0</td><td>  0</td><td>30.0</td><td>0.484</td><td>32</td><td>1</td></tr>\n",
              "\t<tr><td> 0</td><td>118</td><td>84</td><td>47</td><td>230</td><td>45.8</td><td>0.551</td><td>31</td><td>1</td></tr>\n",
              "\t<tr><td> 7</td><td>107</td><td>74</td><td> 0</td><td>  0</td><td>  NA</td><td>0.254</td><td>31</td><td>1</td></tr>\n",
              "\t<tr><td> 1</td><td>103</td><td>30</td><td>38</td><td> 83</td><td>43.3</td><td>0.183</td><td>33</td><td>0</td></tr>\n",
              "\t<tr><td> 1</td><td>115</td><td>70</td><td>30</td><td> 96</td><td>34.6</td><td>0.529</td><td>32</td><td>1</td></tr>\n",
              "\t<tr><td> 3</td><td>126</td><td>88</td><td>41</td><td>235</td><td>39.3</td><td>0.704</td><td>27</td><td>0</td></tr>\n",
              "\t<tr><td> 8</td><td> 99</td><td>84</td><td> 0</td><td>  0</td><td>35.4</td><td>0.388</td><td>50</td><td>0</td></tr>\n",
              "\t<tr><td> 7</td><td>196</td><td>90</td><td> 0</td><td>  0</td><td>  NA</td><td>0.451</td><td>41</td><td>1</td></tr>\n",
              "\t<tr><td> 9</td><td>119</td><td>80</td><td>35</td><td>  0</td><td>29.0</td><td>0.263</td><td>29</td><td>1</td></tr>\n",
              "\t<tr><td>11</td><td>143</td><td>94</td><td>33</td><td>146</td><td>36.6</td><td>0.254</td><td>51</td><td>1</td></tr>\n",
              "\t<tr><td>10</td><td>125</td><td>70</td><td>26</td><td>115</td><td>31.1</td><td>0.205</td><td>41</td><td>1</td></tr>\n",
              "\t<tr><td> 7</td><td>147</td><td>76</td><td> 0</td><td>  0</td><td>39.4</td><td>0.257</td><td>43</td><td>1</td></tr>\n",
              "\t<tr><td> 1</td><td> 97</td><td>66</td><td>15</td><td>140</td><td>23.2</td><td>0.487</td><td>22</td><td>0</td></tr>\n",
              "\t<tr><td>13</td><td>145</td><td>82</td><td>19</td><td> NA</td><td>22.2</td><td>0.245</td><td>57</td><td>0</td></tr>\n",
              "\t<tr><td> 5</td><td>117</td><td>92</td><td> 0</td><td>  0</td><td>  NA</td><td>0.337</td><td>38</td><td>0</td></tr>\n",
              "\t<tr><td>⋮</td><td>⋮</td><td>⋮</td><td>⋮</td><td>⋮</td><td>⋮</td><td>⋮</td><td>⋮</td><td>⋮</td></tr>\n",
              "\t<tr><td> 2</td><td> 99</td><td>60</td><td>17</td><td>160</td><td>36.6</td><td>0.453</td><td>21</td><td>0</td></tr>\n",
              "\t<tr><td> 1</td><td>102</td><td>74</td><td> 0</td><td>  0</td><td>39.5</td><td>0.293</td><td>42</td><td>1</td></tr>\n",
              "\t<tr><td>11</td><td>120</td><td>80</td><td>37</td><td>150</td><td>42.3</td><td>0.785</td><td>48</td><td>1</td></tr>\n",
              "\t<tr><td> 3</td><td>102</td><td>44</td><td>20</td><td> 94</td><td>30.8</td><td>0.400</td><td>26</td><td>0</td></tr>\n",
              "\t<tr><td> 1</td><td>109</td><td>58</td><td>18</td><td> NA</td><td>28.5</td><td>0.219</td><td>22</td><td>0</td></tr>\n",
              "\t<tr><td> 9</td><td>140</td><td>94</td><td> 0</td><td>  0</td><td>32.7</td><td>0.734</td><td>45</td><td>1</td></tr>\n",
              "\t<tr><td>13</td><td>153</td><td>88</td><td>37</td><td>140</td><td>40.6</td><td>1.174</td><td>39</td><td>0</td></tr>\n",
              "\t<tr><td>12</td><td>100</td><td>84</td><td>33</td><td>105</td><td>30.0</td><td>0.488</td><td>46</td><td>0</td></tr>\n",
              "\t<tr><td> 1</td><td>147</td><td>94</td><td>41</td><td>  0</td><td>49.3</td><td>0.358</td><td>27</td><td>1</td></tr>\n",
              "\t<tr><td> 1</td><td> 81</td><td>74</td><td>41</td><td> 57</td><td>46.3</td><td>1.096</td><td>32</td><td>0</td></tr>\n",
              "\t<tr><td> 3</td><td>187</td><td>70</td><td>22</td><td>200</td><td>36.4</td><td>0.408</td><td>36</td><td>1</td></tr>\n",
              "\t<tr><td> 6</td><td>162</td><td>62</td><td> 0</td><td>  0</td><td>24.3</td><td>0.178</td><td>50</td><td>1</td></tr>\n",
              "\t<tr><td> 4</td><td>136</td><td>70</td><td> 0</td><td>  0</td><td>31.2</td><td>1.182</td><td>22</td><td>1</td></tr>\n",
              "\t<tr><td> 1</td><td>121</td><td>78</td><td>39</td><td> 74</td><td>39.0</td><td>0.261</td><td>28</td><td>0</td></tr>\n",
              "\t<tr><td> 3</td><td>108</td><td>62</td><td>24</td><td>  0</td><td>26.0</td><td>0.223</td><td>25</td><td>0</td></tr>\n",
              "\t<tr><td> 0</td><td>181</td><td>88</td><td>44</td><td>510</td><td>43.3</td><td>0.222</td><td>26</td><td>1</td></tr>\n",
              "\t<tr><td> 8</td><td>154</td><td>78</td><td>32</td><td>  0</td><td>32.4</td><td>0.443</td><td>45</td><td>1</td></tr>\n",
              "\t<tr><td> 1</td><td>128</td><td>88</td><td>39</td><td> NA</td><td>36.5</td><td>1.057</td><td>37</td><td>1</td></tr>\n",
              "\t<tr><td> 7</td><td>137</td><td>90</td><td>41</td><td>  0</td><td>32.0</td><td>0.391</td><td>39</td><td>0</td></tr>\n",
              "\t<tr><td> 0</td><td>123</td><td>72</td><td> 0</td><td>  0</td><td>36.3</td><td>0.258</td><td>52</td><td>1</td></tr>\n",
              "\t<tr><td> 1</td><td>106</td><td>76</td><td> 0</td><td>  0</td><td>37.5</td><td>0.197</td><td>26</td><td>0</td></tr>\n",
              "\t<tr><td> 6</td><td>190</td><td>92</td><td> 0</td><td>  0</td><td>35.5</td><td>0.278</td><td>66</td><td>1</td></tr>\n",
              "\t<tr><td> 2</td><td> 88</td><td>58</td><td>26</td><td> 16</td><td>28.4</td><td>0.766</td><td>22</td><td>0</td></tr>\n",
              "\t<tr><td> 9</td><td>170</td><td>74</td><td>31</td><td>  0</td><td>44.0</td><td>0.403</td><td>43</td><td>1</td></tr>\n",
              "\t<tr><td> 9</td><td> 89</td><td>62</td><td> 0</td><td>  0</td><td>22.5</td><td>0.142</td><td>33</td><td>0</td></tr>\n",
              "\t<tr><td>10</td><td>101</td><td>76</td><td>48</td><td>180</td><td>32.9</td><td>0.171</td><td>63</td><td>0</td></tr>\n",
              "\t<tr><td> 2</td><td>122</td><td>70</td><td>27</td><td>  0</td><td>36.8</td><td>0.340</td><td>27</td><td>0</td></tr>\n",
              "\t<tr><td> 5</td><td>121</td><td>72</td><td>23</td><td>112</td><td>26.2</td><td>0.245</td><td>30</td><td>0</td></tr>\n",
              "\t<tr><td> 1</td><td>126</td><td>60</td><td> 0</td><td>  0</td><td>30.1</td><td>0.349</td><td>47</td><td>1</td></tr>\n",
              "\t<tr><td> 1</td><td> 93</td><td>70</td><td>31</td><td>  0</td><td>30.4</td><td>0.315</td><td>23</td><td>0</td></tr>\n",
              "</tbody>\n",
              "</table>\n"
            ]
          },
          "metadata": {
            "tags": []
          }
        }
      ]
    },
    {
      "cell_type": "markdown",
      "metadata": {
        "id": "RqG88IvRfbEV"
      },
      "source": [
        "4. Task 2"
      ]
    },
    {
      "cell_type": "code",
      "metadata": {
        "colab": {
          "base_uri": "https://localhost:8080/",
          "height": 34
        },
        "id": "B9sBPUavShMq",
        "outputId": "e5cf9db7-c59a-41aa-c50a-892d2a995d59"
      },
      "source": [
        "# a. find out how many values are missing in each of the columns of your data set.\n",
        "tar <- data$Age\n",
        "sapply(data, function(tar) sum(is.na(tar)))"
      ],
      "execution_count": null,
      "outputs": [
        {
          "output_type": "display_data",
          "data": {
            "text/plain": [
              "             Pregnancies                  Glucose            BloodPressure \n",
              "                       0                        0                        0 \n",
              "           SkinThickness                  Insulin                      BMI \n",
              "                       0                       13                        6 \n",
              "DiabetesPedigreeFunction                      Age                  Outcome \n",
              "                       0                        0                        0 "
            ],
            "text/latex": "\\begin{description*}\n\\item[Pregnancies] 0\n\\item[Glucose] 0\n\\item[BloodPressure] 0\n\\item[SkinThickness] 0\n\\item[Insulin] 13\n\\item[BMI] 6\n\\item[DiabetesPedigreeFunction] 0\n\\item[Age] 0\n\\item[Outcome] 0\n\\end{description*}\n",
            "text/markdown": "Pregnancies\n:   0Glucose\n:   0BloodPressure\n:   0SkinThickness\n:   0Insulin\n:   13BMI\n:   6DiabetesPedigreeFunction\n:   0Age\n:   0Outcome\n:   0\n\n",
            "text/html": [
              "<style>\n",
              ".dl-inline {width: auto; margin:0; padding: 0}\n",
              ".dl-inline>dt, .dl-inline>dd {float: none; width: auto; display: inline-block}\n",
              ".dl-inline>dt::after {content: \":\\0020\"; padding-right: .5ex}\n",
              ".dl-inline>dt:not(:first-of-type) {padding-left: .5ex}\n",
              "</style><dl class=dl-inline><dt>Pregnancies</dt><dd>0</dd><dt>Glucose</dt><dd>0</dd><dt>BloodPressure</dt><dd>0</dd><dt>SkinThickness</dt><dd>0</dd><dt>Insulin</dt><dd>13</dd><dt>BMI</dt><dd>6</dd><dt>DiabetesPedigreeFunction</dt><dd>0</dd><dt>Age</dt><dd>0</dd><dt>Outcome</dt><dd>0</dd></dl>\n"
            ]
          },
          "metadata": {
            "tags": []
          }
        }
      ]
    },
    {
      "cell_type": "code",
      "metadata": {
        "colab": {
          "base_uri": "https://localhost:8080/",
          "height": 425
        },
        "id": "7PuQR0DyShHt",
        "outputId": "b927524d-1b7e-4d3a-aab9-e60b12b3426a"
      },
      "source": [
        "# c. Find 5 point summary of all remaining columns with numric attributes\n",
        "summary(dataless1)"
      ],
      "execution_count": null,
      "outputs": [
        {
          "output_type": "display_data",
          "data": {
            "text/plain": [
              "  Pregnancies        Glucose      BloodPressure    SkinThickness  \n",
              " Min.   : 0.000   Min.   :  0.0   Min.   :  0.00   Min.   : 0.00  \n",
              " 1st Qu.: 1.000   1st Qu.: 99.0   1st Qu.: 62.00   1st Qu.: 0.00  \n",
              " Median : 3.000   Median :117.0   Median : 72.00   Median :23.00  \n",
              " Mean   : 3.845   Mean   :120.9   Mean   : 69.11   Mean   :20.54  \n",
              " 3rd Qu.: 6.000   3rd Qu.:140.2   3rd Qu.: 80.00   3rd Qu.:32.00  \n",
              " Max.   :17.000   Max.   :199.0   Max.   :122.00   Max.   :99.00  \n",
              "                                                                  \n",
              "    Insulin            BMI        DiabetesPedigreeFunction      Age       \n",
              " Min.   :  0.00   Min.   : 0.00   Min.   :0.0780           Min.   :21.00  \n",
              " 1st Qu.:  0.00   1st Qu.:27.30   1st Qu.:0.2437           1st Qu.:24.00  \n",
              " Median : 18.00   Median :32.00   Median :0.3725           Median :29.00  \n",
              " Mean   : 77.84   Mean   :31.97   Mean   :0.4719           Mean   :33.24  \n",
              " 3rd Qu.:125.00   3rd Qu.:36.58   3rd Qu.:0.6262           3rd Qu.:41.00  \n",
              " Max.   :846.00   Max.   :67.10   Max.   :2.4200           Max.   :81.00  \n",
              " NA's   :13       NA's   :6                                               \n",
              "    Outcome     \n",
              " Min.   :0.000  \n",
              " 1st Qu.:0.000  \n",
              " Median :0.000  \n",
              " Mean   :0.349  \n",
              " 3rd Qu.:1.000  \n",
              " Max.   :1.000  \n",
              "                "
            ]
          },
          "metadata": {
            "tags": []
          }
        }
      ]
    },
    {
      "cell_type": "code",
      "metadata": {
        "colab": {
          "base_uri": "https://localhost:8080/",
          "height": 136
        },
        "id": "cGtjpVfzShFa",
        "outputId": "5e7af9c9-510d-444e-fc26-4d53034b2c59"
      },
      "source": [
        "# d. For attribute having maximum spread delete all tuples that have value less than the mean of the\n",
        "# attribute selected. Count the number of tuples reamining in the sampled dataset.\n",
        "\n",
        "m <- mean(data$Age, na.rm = FALSE)\n",
        "m\n",
        "\n",
        "df2 <- subset(data, data$Age< m)\n",
        "summary(df2$Age)\n",
        "print('Rows before row deletion: ')\n",
        "nrow(data)\n",
        "print('Rows after row deletion: ')\n",
        "nrow(df2)\n"
      ],
      "execution_count": null,
      "outputs": [
        {
          "output_type": "display_data",
          "data": {
            "text/plain": [
              "[1] 33.24089"
            ],
            "text/latex": "33.2408854166667",
            "text/markdown": "33.2408854166667",
            "text/html": [
              "33.2408854166667"
            ]
          },
          "metadata": {
            "tags": []
          }
        },
        {
          "output_type": "display_data",
          "data": {
            "text/plain": [
              "   Min. 1st Qu.  Median    Mean 3rd Qu.    Max. \n",
              "  21.00   22.00   25.00   25.47   28.00   33.00 "
            ]
          },
          "metadata": {
            "tags": []
          }
        },
        {
          "output_type": "stream",
          "text": [
            "[1] \"Rows before row deletion: \"\n"
          ],
          "name": "stdout"
        },
        {
          "output_type": "display_data",
          "data": {
            "text/plain": [
              "[1] 768"
            ],
            "text/latex": "768",
            "text/markdown": "768",
            "text/html": [
              "768"
            ]
          },
          "metadata": {
            "tags": []
          }
        },
        {
          "output_type": "stream",
          "text": [
            "[1] \"Rows before row deletion: \"\n"
          ],
          "name": "stdout"
        },
        {
          "output_type": "display_data",
          "data": {
            "text/plain": [
              "[1] 474"
            ],
            "text/latex": "474",
            "text/markdown": "474",
            "text/html": [
              "474"
            ]
          },
          "metadata": {
            "tags": []
          }
        }
      ]
    }
  ]
}