{
  "nbformat": 4,
  "nbformat_minor": 0,
  "metadata": {
    "colab": {
      "name": "Untitled0.ipynb",
      "provenance": [],
      "collapsed_sections": [],
      "authorship_tag": "ABX9TyOVPq5akXkXV2kq7RrgZSn/",
      "include_colab_link": true
    },
    "kernelspec": {
      "name": "python3",
      "display_name": "Python 3"
    },
    "language_info": {
      "name": "python"
    }
  },
  "cells": [
    {
      "cell_type": "markdown",
      "metadata": {
        "id": "view-in-github",
        "colab_type": "text"
      },
      "source": [
        "<a href=\"https://colab.research.google.com/github/Aarti291297/Aarti_Gauda-Rlab/blob/main/project.ipynb\" target=\"_parent\"><img src=\"https://colab.research.google.com/assets/colab-badge.svg\" alt=\"Open In Colab\"/></a>"
      ]
    },
    {
      "cell_type": "code",
      "metadata": {
        "id": "aqbXHIBmSNGY",
        "colab": {
          "base_uri": "https://localhost:8080/",
          "height": 128
        },
        "outputId": "ab32b0af-52d5-4dff-e9f2-1183640054a4"
      },
      "source": [
        "id <- \"10MtPqGguA-2erSyJkHwn8r677kB7HFxb\" # google file ID\n",
        "data <- read.csv(sprintf(\"https://docs.google.com/uc?id=%s&export=download\", id), na.strings=c(\"\",\"NA\"))\n",
        "data"
      ],
      "execution_count": 8,
      "outputs": [
        {
          "output_type": "error",
          "ename": "SyntaxError",
          "evalue": "ignored",
          "traceback": [
            "\u001b[0;36m  File \u001b[0;32m\"<ipython-input-8-c488644dc12c>\"\u001b[0;36m, line \u001b[0;32m2\u001b[0m\n\u001b[0;31m    data <- read.csv(sprintf(\"https://docs.google.com/uc?id=%s&export=download\", id), na.strings=c(\"\",\"NA\"))\u001b[0m\n\u001b[0m                                                                                     ^\u001b[0m\n\u001b[0;31mSyntaxError\u001b[0m\u001b[0;31m:\u001b[0m keyword can't be an expression\n"
          ]
        }
      ]
    },
    {
      "cell_type": "code",
      "metadata": {
        "colab": {
          "base_uri": "https://localhost:8080/",
          "height": 663
        },
        "id": "EdoFvA62Rjua",
        "outputId": "257c3ff2-331d-4883-fc98-8c73cea77b19"
      },
      "source": [
        "\n",
        "# a. summarize the entire data using apropriate R Command.\n",
        "library(dplyr)\n",
        "\n",
        "summary(data)"
      ],
      "execution_count": null,
      "outputs": [
        {
          "output_type": "stream",
          "text": [
            "\n",
            "Attaching package: ‘dplyr’\n",
            "\n",
            "\n",
            "The following objects are masked from ‘package:stats’:\n",
            "\n",
            "    filter, lag\n",
            "\n",
            "\n",
            "The following objects are masked from ‘package:base’:\n",
            "\n",
            "    intersect, setdiff, setequal, union\n",
            "\n",
            "\n"
          ],
          "name": "stderr"
        },
        {
          "output_type": "display_data",
          "data": {
            "text/plain": [
              "  Pregnancies        Glucose      BloodPressure    SkinThickness  \n",
              " Min.   : 0.000   Min.   :  0.0   Min.   :  0.00   Min.   : 0.00  \n",
              " 1st Qu.: 1.000   1st Qu.: 99.0   1st Qu.: 62.00   1st Qu.: 0.00  \n",
              " Median : 3.000   Median :117.0   Median : 72.00   Median :23.00  \n",
              " Mean   : 3.845   Mean   :120.9   Mean   : 69.11   Mean   :20.54  \n",
              " 3rd Qu.: 6.000   3rd Qu.:140.2   3rd Qu.: 80.00   3rd Qu.:32.00  \n",
              " Max.   :17.000   Max.   :199.0   Max.   :122.00   Max.   :99.00  \n",
              "                                                                  \n",
              "    Insulin            BMI        DiabetesPedigreeFunction      Age       \n",
              " Min.   :  0.00   Min.   : 0.00   Min.   :0.0780           Min.   :21.00  \n",
              " 1st Qu.:  0.00   1st Qu.:27.30   1st Qu.:0.2437           1st Qu.:24.00  \n",
              " Median : 18.00   Median :32.00   Median :0.3725           Median :29.00  \n",
              " Mean   : 77.84   Mean   :31.97   Mean   :0.4719           Mean   :33.24  \n",
              " 3rd Qu.:125.00   3rd Qu.:36.58   3rd Qu.:0.6262           3rd Qu.:41.00  \n",
              " Max.   :846.00   Max.   :67.10   Max.   :2.4200           Max.   :81.00  \n",
              " NA's   :13       NA's   :6                                               \n",
              "    Outcome     \n",
              " Min.   :0.000  \n",
              " 1st Qu.:0.000  \n",
              " Median :0.000  \n",
              " Mean   :0.349  \n",
              " 3rd Qu.:1.000  \n",
              " Max.   :1.000  \n",
              "                "
            ]
          },
          "metadata": {
            "tags": []
          }
        }
      ]
    },
    {
      "cell_type": "code",
      "metadata": {
        "colab": {
          "base_uri": "https://localhost:8080/",
          "height": 34
        },
        "id": "ZoJe0eKeSMhO",
        "outputId": "ccb7a672-298d-4b38-8f43-8506dbd7e6d1"
      },
      "source": [
        "\n",
        "# b. show class of variable holding data\n",
        "class(data)"
      ],
      "execution_count": null,
      "outputs": [
        {
          "output_type": "display_data",
          "data": {
            "text/plain": [
              "[1] \"data.frame\""
            ],
            "text/latex": "'data.frame'",
            "text/markdown": "'data.frame'",
            "text/html": [
              "'data.frame'"
            ]
          },
          "metadata": {
            "tags": []
          }
        }
      ]
    },
    {
      "cell_type": "code",
      "metadata": {
        "colab": {
          "base_uri": "https://localhost:8080/",
          "height": 153
        },
        "id": "oEWomQEeShW6",
        "outputId": "ae34db72-a87a-47d6-a489-5a773c6e23a9"
      },
      "source": [
        "# d. select any 2 atributes that are continuous valued and create a subset of original data with only those columns. \n",
        "# (e.g. sample_data(col1,col2, col3) is stored in variable my_data where as variable data_slice has only col2 and col3 and no other columns. Num of rows in both must be same.)\n",
        "\n",
        "\n",
        "data_slice <- data %>% select(Glucose:Insulin)\n",
        "summary(data_slice)\n"
      ],
      "execution_count": null,
      "outputs": [
        {
          "output_type": "display_data",
          "data": {
            "text/plain": [
              "    Glucose      BloodPressure    SkinThickness      Insulin      \n",
              " Min.   :  0.0   Min.   :  0.00   Min.   : 0.00   Min.   :  0.00  \n",
              " 1st Qu.: 99.0   1st Qu.: 62.00   1st Qu.: 0.00   1st Qu.:  0.00  \n",
              " Median :117.0   Median : 72.00   Median :23.00   Median : 18.00  \n",
              " Mean   :120.9   Mean   : 69.11   Mean   :20.54   Mean   : 77.84  \n",
              " 3rd Qu.:140.2   3rd Qu.: 80.00   3rd Qu.:32.00   3rd Qu.:125.00  \n",
              " Max.   :199.0   Max.   :122.00   Max.   :99.00   Max.   :846.00  \n",
              "                                                  NA's   :13      "
            ]
          },
          "metadata": {
            "tags": []
          }
        }
      ]
    },
    {
      "cell_type": "code",
      "metadata": {
        "colab": {
          "base_uri": "https://localhost:8080/",
          "height": 34
        },
        "id": "2MAKcWYYShSq",
        "outputId": "e5533bd7-c8b9-4d22-cb22-d39f3d0aea95"
      },
      "source": [
        "\n",
        "# e. Write R function to sample tuples starting at index N to N+m from any data set provided.\n",
        "bb <- data['Age']\n",
        "sample(bb[1:10,])"
      ],
      "execution_count": null,
      "outputs": [
        {
          "output_type": "display_data",
          "data": {
            "text/plain": [
              " [1] 32 53 29 50 26 21 33 30 31 54"
            ],
            "text/latex": "\\begin{enumerate*}\n\\item 32\n\\item 53\n\\item 29\n\\item 50\n\\item 26\n\\item 21\n\\item 33\n\\item 30\n\\item 31\n\\item 54\n\\end{enumerate*}\n",
            "text/markdown": "1. 32\n2. 53\n3. 29\n4. 50\n5. 26\n6. 21\n7. 33\n8. 30\n9. 31\n10. 54\n\n\n",
            "text/html": [
              "<style>\n",
              ".list-inline {list-style: none; margin:0; padding: 0}\n",
              ".list-inline>li {display: inline-block}\n",
              ".list-inline>li:not(:last-child)::after {content: \"\\00b7\"; padding: 0 .5ex}\n",
              "</style>\n",
              "<ol class=list-inline><li>32</li><li>53</li><li>29</li><li>50</li><li>26</li><li>21</li><li>33</li><li>30</li><li>31</li><li>54</li></ol>\n"
            ]
          },
          "metadata": {
            "tags": []
          }
        }
      ]
    },
    {
      "cell_type": "code",
      "metadata": {
        "id": "iAjsu0d8eClI"
      },
      "source": [
        ""
      ],
      "execution_count": null,
      "outputs": []
    }
  ]
}